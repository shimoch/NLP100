{
 "cells": [
  {
   "cell_type": "markdown",
   "metadata": {},
   "source": [
    "# 第1章: 準備運動  \n",
    "---"
   ]
  },
  {
   "cell_type": "markdown",
   "metadata": {},
   "source": [
    "## 00. 文字列の逆順\n",
    "文字列\"stressed\"の文字を逆に（末尾から先頭に向かって）並べた文字列を得よ．"
   ]
  },
  {
   "cell_type": "code",
   "execution_count": 121,
   "metadata": {
    "collapsed": false
   },
   "outputs": [
    {
     "name": "stdout",
     "output_type": "stream",
     "text": [
      "desserts\n"
     ]
    }
   ],
   "source": [
    "text = \"stressed\"\n",
    "newtext = []\n",
    "\n",
    "for row in text:\n",
    "    newtext.append(row)\n",
    "newtext.reverse()\n",
    "x = \"\".join(newtext)\n",
    "\n",
    "print(x)"
   ]
  },
  {
   "cell_type": "markdown",
   "metadata": {},
   "source": [
    "### 一言  \n",
    "- Pythonの型  \n",
    "- for文  \n",
    "- reverseメソッド  \n",
    "- joinメソッド  \n",
    "---"
   ]
  },
  {
   "cell_type": "markdown",
   "metadata": {
    "collapsed": true
   },
   "source": [
    "## 01. 「パタトクカシーー」\n",
    "「パタトクカシーー」という文字列の1,3,5,7文字目を取り出して連結した文字列を得よ．"
   ]
  },
  {
   "cell_type": "code",
   "execution_count": 122,
   "metadata": {
    "collapsed": false
   },
   "outputs": [
    {
     "name": "stdout",
     "output_type": "stream",
     "text": [
      "パトカー\n"
     ]
    }
   ],
   "source": [
    "text = \"パタトクカシーー\"\n",
    "\n",
    "x = text[::2]\n",
    "\n",
    "print(x)"
   ]
  },
  {
   "cell_type": "markdown",
   "metadata": {},
   "source": [
    "### 一言  \n",
    "- リスト操作  \n",
    "     - **array[::n]** : 配列・文字列をnステップごとに取得  \n",
    "---"
   ]
  },
  {
   "cell_type": "markdown",
   "metadata": {},
   "source": [
    "## 02. 「パトカー」＋「タクシー」＝「パタトクカシーー」\n",
    "「パトカー」＋「タクシー」の文字を先頭から交互に連結して文字列「パタトクカシーー」を得よ．"
   ]
  },
  {
   "cell_type": "code",
   "execution_count": 123,
   "metadata": {
    "collapsed": false
   },
   "outputs": [
    {
     "name": "stdout",
     "output_type": "stream",
     "text": [
      "パタトクカシーー\n"
     ]
    }
   ],
   "source": [
    "text1 = \"パトカー\"\n",
    "text2 = \"タクシー\"\n",
    "x = []\n",
    "for i in range(4):\n",
    "    t1 = text1[i]\n",
    "    t2 = text2[i]\n",
    "    x.append(t1+t2)\n",
    "x = \"\".join(x)\n",
    "print(x)"
   ]
  },
  {
   "cell_type": "markdown",
   "metadata": {},
   "source": [
    "### 一言  \n",
    "- for文  \n",
    "- リストからの要素の取り出し  \n",
    "---"
   ]
  },
  {
   "cell_type": "markdown",
   "metadata": {},
   "source": [
    "## 03. 円周率\n",
    "\"Now I need a drink, alcoholic of course, after the heavy lectures involving quantum mechanics.\"という文を単語に分解し，各単語の（アルファベットの）文字数を先頭から出現順に並べたリストを作成せよ．"
   ]
  },
  {
   "cell_type": "code",
   "execution_count": 132,
   "metadata": {
    "collapsed": false
   },
   "outputs": [
    {
     "name": "stdout",
     "output_type": "stream",
     "text": [
      "[3, 1, 4, 1, 5, 9, 2, 6, 5, 3, 5, 8, 9, 7, 9]\n"
     ]
    }
   ],
   "source": [
    "import re\n",
    "\n",
    "text = \"Now I need a drink, alcoholic of course, after the heavy lectures involving quantum mechanics.\"\n",
    "newtext = []\n",
    "x = []\n",
    "\n",
    "#全半角記号指定した変数の作成\n",
    "delete_symbol = \"[!-/:-@[-`{-~]\"\n",
    "\n",
    "#正規表現による句読点の削除\n",
    "text = re.sub(delete_symbol,\"\", text)\n",
    "\n",
    "newtext = text.split( )\n",
    "\n",
    "for row in newtext:\n",
    "    num = len(row)\n",
    "    x.append(num)\n",
    "\n",
    "print(x)"
   ]
  },
  {
   "cell_type": "markdown",
   "metadata": {},
   "source": [
    "### 一言  \n",
    "- **Pythonの文字列はイミュータブル(immutable...変更不可)**\n",
    "    - 変数の再定義\n",
    "- reモジュールの呼び出し（正規表現）\n",
    "- sub関数  \n",
    "---"
   ]
  },
  {
   "cell_type": "markdown",
   "metadata": {},
   "source": [
    "## 04. 元素記号\n",
    "\"Hi He Lied Because Boron Could Not Oxidize Fluorine. New Nations Might Also Sign Peace Security Clause. Arthur King Can.\"という文を単語に分解し，1, 5, 6, 7, 8, 9, 15, 16, 19番目の単語は先頭の1文字，それ以外の単語は先頭の2文字を取り出し，取り出した文字列から単語の位置（先頭から何番目の単語か）への連想配列（辞書型もしくはマップ型）を作成せよ．"
   ]
  },
  {
   "cell_type": "code",
   "execution_count": 200,
   "metadata": {
    "collapsed": false
   },
   "outputs": [
    {
     "name": "stdout",
     "output_type": "stream",
     "text": [
      "{'H': 1, 'He': 2, 'Li': 3, 'Be': 4, 'B': 5, 'C': 6, 'N': 7, 'O': 8, 'F': 9, 'Ne': 10, 'Na': 11, 'Mi': 12, 'Al': 13, 'Si': 14, 'P': 15, 'S': 16, 'Cl': 17, 'Ar': 18, 'K': 19, 'Ca': 20}\n"
     ]
    }
   ],
   "source": [
    "text = \"Hi He Lied Because Boron Could Not Oxidize Fluorine. New Nations Might Also Sign Peace Security Clause. Arthur King Can.\"\n",
    "number = [1, 5, 6, 7, 8, 9, 15, 16, 19]\n",
    "\n",
    "text = text.replace(\".\",\"\")\n",
    "newtext = text.split()\n",
    "\n",
    "x = {}\n",
    "\n",
    "for i in range(0, len(newtext)):\n",
    "    if i+1 in number:\n",
    "        x[newtext[i][0]] = i+1\n",
    "    else:\n",
    "        x[newtext[i][0]+newtext[i][1]] = i+1\n",
    "\n",
    "print(x)"
   ]
  },
  {
   "cell_type": "markdown",
   "metadata": {},
   "source": [
    "### 一言  \n",
    "- 辞書型  \n",
    "    - **dict = {'キー' : 値}** の形で表記  \n",
    "    - **dict['キー'] = 値** : キーを指定して辞書に要素を追加・更新  \n",
    "- if文におけるリストの要素に対する条件の指定\n",
    "---"
   ]
  },
  {
   "cell_type": "markdown",
   "metadata": {},
   "source": [
    "## 05. n-gram\n",
    "与えられたシーケンス（文字列やリストなど）からn-gramを作る関数を作成せよ．この関数を用い，\"I am an NLPer\"という文から単語bi-gram，文字bi-gramを得よ．"
   ]
  },
  {
   "cell_type": "code",
   "execution_count": 212,
   "metadata": {
    "collapsed": false
   },
   "outputs": [
    {
     "name": "stdout",
     "output_type": "stream",
     "text": [
      "[['I', 'am'], ['am', 'an'], ['an', 'NLPer']]\n",
      "['I ', ' a', 'am', 'm ', ' a', 'an', 'n ', ' N', 'NL', 'LP', 'Pe', 'er']\n"
     ]
    }
   ],
   "source": [
    "text  = \"I am an NLPer\"\n",
    "\n",
    "#関数定義\n",
    "def n_gram(seq, n):\n",
    "    x = []\n",
    "    for i in range(0, len(seq)-1):\n",
    "        x.append(seq[i:i+n])\n",
    "    return x\n",
    "\n",
    "#単語リスト\n",
    "word = text.split()\n",
    "#文字リスト\n",
    "letter = text\n",
    "\n",
    "print(n_gram(word, 2))\n",
    "print(n_gram(letter, 2))"
   ]
  },
  {
   "cell_type": "markdown",
   "metadata": {},
   "source": [
    "### 一言  \n",
    "- 関数定義  \n",
    "- 関数の返り値  \n",
    "- rangeの範囲設定  \n",
    "- スライス  \n",
    "    - **array[x:y]** : x番目の配列から見て、y個の要素を取得する\n",
    "---"
   ]
  },
  {
   "cell_type": "markdown",
   "metadata": {},
   "source": [
    "## 06. 集合\n",
    "\"paraparaparadise\"と\"paragraph\"に含まれる文字bi-gramの集合を，それぞれ, XとYとして求め，XとYの和集合，積集合，差集合を求めよ．さらに，'se'というbi-gramがXおよびYに含まれるかどうかを調べよ．"
   ]
  },
  {
   "cell_type": "code",
   "execution_count": 254,
   "metadata": {
    "collapsed": false
   },
   "outputs": [
    {
     "name": "stdout",
     "output_type": "stream",
     "text": [
      "集合X {'pa', 'ar', 'ap', 'ad', 'ra', 'is', 'di', 'se'} <class 'set'>\n",
      "集合Y {'pa', 'ph', 'ar', 'gr', 'ap', 'ra', 'ag'} <class 'set'>\n",
      "\n",
      "\n",
      "和集合 {'gr', 'ap', 'ad', 'se', 'pa', 'ph', 'ar', 'is', 'ra', 'di', 'ag'}\n",
      "積集合 {'pa', 'ar', 'ra', 'ap'}\n",
      "差集合 {'di', 'se', 'ad', 'is'}\n",
      "\n",
      "\n",
      "X⊇{'se'} :  True\n",
      "Y⊇{'se'} :  False\n"
     ]
    }
   ],
   "source": [
    "text1 = \"paraparaparadise\"\n",
    "text2 = \"paragraph\"\n",
    "\n",
    "#関数定義\n",
    "def n_gram(seq, n):\n",
    "    x = []\n",
    "    for i in range(0, len(seq)-1):\n",
    "        x.append(seq[i:i+n])\n",
    "    return x\n",
    "\n",
    "#リストを集合(setオブジェクト)へ\n",
    "X = set(n_gram(text1, 2))\n",
    "Y = set(n_gram(text2, 2))\n",
    "print(\"集合X\", X, type(X))\n",
    "print(\"集合Y\", Y, type(Y))\n",
    "print(\"\\n\")\n",
    "\n",
    "#和集合、積集合、差集合\n",
    "print(\"和集合\", X | Y)\n",
    "print(\"積集合\", X & Y)\n",
    "print(\"差集合\", X - Y)\n",
    "print(\"\\n\")\n",
    "\n",
    "print(\"X⊇{\"\"'se'\"\"} : \", X >= {\"se\"})\n",
    "print(\"Y⊇{\"\"'se'\"\"} : \", Y >= {\"se\"})"
   ]
  },
  {
   "cell_type": "markdown",
   "metadata": {},
   "source": [
    "### 一言  \n",
    "- **set型**による集合オブジェクトの作成  \n",
    "- 集合の演算  \n",
    "    - 和集合A ∪ B : A | B \n",
    "    - 積集合A ∩ B : A & B  \n",
    "    - 差集合A \\ B : A - B  \n",
    "        - 集合Aから集合Bを引いた差、すなわち集合Aと補集合Bの積集合(A ∩ B^c)\n",
    "- 部分集合の判定  \n",
    "    - \\>=  \n",
    "---"
   ]
  },
  {
   "cell_type": "markdown",
   "metadata": {},
   "source": [
    "## 07. テンプレートによる文生成\n",
    "引数x, y, zを受け取り「x時のyはz」という文字列を返す関数を実装せよ．さらに，x=12, y=\"気温\", z=22.4として，実行結果を確認せよ．"
   ]
  },
  {
   "cell_type": "code",
   "execution_count": 281,
   "metadata": {
    "collapsed": false
   },
   "outputs": [
    {
     "name": "stdout",
     "output_type": "stream",
     "text": [
      "12時の気温は22.4\n"
     ]
    }
   ],
   "source": [
    "##ダメな例\n",
    "'''\n",
    "def template(x, y, z):\n",
    "    str(x)\n",
    "    str(z)\n",
    "    t = x + \"時の\" + y + \"は\" + z\n",
    "    return t\n",
    "\n",
    "template(12, \"気温\", 22.4)\n",
    "---\n",
    "実行結果\n",
    "TypeError: 'str' object is not callable\n",
    "'''\n",
    "\n",
    "##良い例\n",
    "def template(x, y, z):\n",
    "    t = '{hour}時の{string}は{temperature}'.format(hour = x, string = y, temperature = z)\n",
    "    return t\n",
    "\n",
    "print(template(12, \"気温\", 22.4))"
   ]
  },
  {
   "cell_type": "markdown",
   "metadata": {},
   "source": [
    "### 一言  \n",
    "- 文字列メソッド **str.format()**  \n",
    "    - **'{a}の{b}は{c}'**.format(**a = x, b = y, c = z**)\n",
    "---"
   ]
  },
  {
   "cell_type": "markdown",
   "metadata": {},
   "source": [
    "## 08. 暗号文  \n",
    "与えられた文字列の各文字を，以下の仕様で変換する関数cipherを実装せよ．  \n",
    "- 英小文字ならば(219 - 文字コード)の文字に置換  \n",
    "- その他の文字はそのまま出力  \n",
    "この関数を用い，英語のメッセージを暗号化・復号化せよ．"
   ]
  },
  {
   "cell_type": "code",
   "execution_count": 337,
   "metadata": {
    "collapsed": false
   },
   "outputs": [
    {
     "name": "stdout",
     "output_type": "stream",
     "text": [
      "I orpv Pbgslm\n",
      "I like Python\n"
     ]
    }
   ],
   "source": [
    "import re\n",
    "\n",
    "def cipher(x):\n",
    "    y = []\n",
    "    for row in x:\n",
    "        if row.islower() == True:\n",
    "            newrow = chr(219-ord(row))\n",
    "            y.append(newrow)\n",
    "        else:\n",
    "            y.append(row)\n",
    "    return \"\".join(y)\n",
    "\n",
    "text = \"I like Python.\"\n",
    "\n",
    "#全半角記号指定した変数の作成\n",
    "delete_symbol = \"[!-/:-@[-`{-~]\"\n",
    "#正規表現による句読点の削除\n",
    "text = re.sub(delete_symbol,\"\", text)\n",
    "\n",
    "#暗号化\n",
    "print(cipher(text))\n",
    "#復号化\n",
    "print(cipher(cipher(text)))"
   ]
  },
  {
   "cell_type": "markdown",
   "metadata": {},
   "source": [
    "### 一言  \n",
    "- 文字列メソッド **str.islower()** : strに小文字が含まれていればTrueを返す  \n",
    "- 文字コード  \n",
    "    - **ord()メソッド** : 1文字のUnicode文字を表す文字列に対し、その文字のUnicodeコードポイントを表す整数を返す  \n",
    "    - **chr()メソッド** : UnicodeコードポイントをUnicode文字列に変換する\n",
    "---"
   ]
  },
  {
   "cell_type": "markdown",
   "metadata": {},
   "source": [
    "## 09. Typoglycemia\n",
    "スペースで区切られた単語列に対して，各単語の先頭と末尾の文字は残し，それ以外の文字の順序をランダムに並び替えるプログラムを作成せよ．ただし，長さが４以下の単語は並び替えないこととする．適当な英語の文（例えば\"I couldn't believe that I could actually understand what I was reading : the phenomenal power of the human mind .\"）を与え，その実行結果を確認せよ．"
   ]
  },
  {
   "cell_type": "code",
   "execution_count": 372,
   "metadata": {
    "collapsed": false
   },
   "outputs": [
    {
     "name": "stdout",
     "output_type": "stream",
     "text": [
      "I cud'nolt bleveie that I culod altuacly uartnndesd what I was renaidg : the pnheaoneml pwoer of the hmuan mind.\n"
     ]
    }
   ],
   "source": [
    "import random\n",
    "import re\n",
    "\n",
    "text = \"I couldn't believe that I could actually understand what I was reading : the phenomenal power of the human mind .\"\n",
    "text = text.split()\n",
    "\n",
    "def Typoglycemia(text):\n",
    "    list = []\n",
    "    for row in text:\n",
    "        if len(row)>4:\n",
    "            row_random = row[1:len(row)-1]\n",
    "            row_random = ''.join(random.sample(row_random, len(row_random)))\n",
    "            row = row[0] + row_random + row[-1]\n",
    "            list.append(row + \" \")\n",
    "        else:\n",
    "            list.append(row + \" \")\n",
    "    list[-2] = list[-2].replace(\" \",\"\")\n",
    "    list[-1] = list[-1].replace(\" \",\"\")\n",
    "    x = \"\".join(list)\n",
    "    return x\n",
    "\n",
    "print(Typoglycemia(text))"
   ]
  },
  {
   "cell_type": "markdown",
   "metadata": {},
   "source": [
    "### 一言  \n",
    "- **random.sample(**str, len(str)**)** : 文字列をランダムで並び替えたのち、リストで返す関数"
   ]
  },
  {
   "cell_type": "code",
   "execution_count": null,
   "metadata": {
    "collapsed": true
   },
   "outputs": [],
   "source": []
  }
 ],
 "metadata": {
  "kernelspec": {
   "display_name": "Python 3",
   "language": "python",
   "name": "python3"
  },
  "language_info": {
   "codemirror_mode": {
    "name": "ipython",
    "version": 3
   },
   "file_extension": ".py",
   "mimetype": "text/x-python",
   "name": "python",
   "nbconvert_exporter": "python",
   "pygments_lexer": "ipython3",
   "version": "3.6.0"
  }
 },
 "nbformat": 4,
 "nbformat_minor": 2
}
